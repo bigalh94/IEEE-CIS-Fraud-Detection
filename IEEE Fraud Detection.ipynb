{
 "cells": [
  {
   "cell_type": "markdown",
   "metadata": {},
   "source": [
    "# IEEE Fraud Detection"
   ]
  },
  {
   "cell_type": "markdown",
   "metadata": {
    "toc": true
   },
   "source": [
    "<h1>Table of Contents<span class=\"tocSkip\"></span></h1>\n",
    "<div class=\"toc\"><ul class=\"toc-item\"><li><span><a href=\"#Introduction\" data-toc-modified-id=\"Introduction-1\"><span class=\"toc-item-num\">1&nbsp;&nbsp;</span>Introduction</a></span></li><li><span><a href=\"#Approach\" data-toc-modified-id=\"Approach-2\"><span class=\"toc-item-num\">2&nbsp;&nbsp;</span>Approach</a></span></li><li><span><a href=\"#Notebooks\" data-toc-modified-id=\"Notebooks-3\"><span class=\"toc-item-num\">3&nbsp;&nbsp;</span>Notebooks</a></span><ul class=\"toc-item\"><li><span><a href=\"#Data-EDA\" data-toc-modified-id=\"Data-EDA-3.1\"><span class=\"toc-item-num\">3.1&nbsp;&nbsp;</span><a href=\"http://localhost:8888/notebooks/notebooks/IEEE%20Fraud%20Detection%20Data%20Preprocessing.ipynb\" target=\"_blank\">Data EDA</a></a></span></li><li><span><a href=\"#Data-Cleaning-and-Feature-Engineering\" data-toc-modified-id=\"Data-Cleaning-and-Feature-Engineering-3.2\"><span class=\"toc-item-num\">3.2&nbsp;&nbsp;</span><a href=\"http://localhost:8888/notebooks/notebooks/Data%20Cleaning%20and%20FE.ipynb#Drop-Temporary-Features\" target=\"_blank\">Data Cleaning and Feature Engineering</a></a></span></li><li><span><a href=\"#LightGBM-Model\" data-toc-modified-id=\"LightGBM-Model-3.3\"><span class=\"toc-item-num\">3.3&nbsp;&nbsp;</span><a href=\"http://localhost:8888/notebooks/notebooks/LightGBM%20Model.ipynb\" target=\"_blank\">LightGBM Model</a></a></span></li><li><span><a href=\"#CatBoost-Model\" data-toc-modified-id=\"CatBoost-Model-3.4\"><span class=\"toc-item-num\">3.4&nbsp;&nbsp;</span><a href=\"http://localhost:8888/notebooks/notebooks/CATBOOST%20MODEL.ipynb\" target=\"_blank\">CatBoost Model</a></a></span></li></ul></li><li><span><a href=\"#Code\" data-toc-modified-id=\"Code-4\"><span class=\"toc-item-num\">4&nbsp;&nbsp;</span>Code</a></span></li><li><span><a href=\"#Data\" data-toc-modified-id=\"Data-5\"><span class=\"toc-item-num\">5&nbsp;&nbsp;</span>Data</a></span></li></ul></div>"
   ]
  },
  {
   "cell_type": "markdown",
   "metadata": {},
   "source": [
    "## Introduction\n",
    "***Vesta Corporation***, the world's leading payment service company is seeking to improve the accuracy of their real time credit card fraud detection capabilities. They need to be able to contact the card owner as soon as fraud is suspected, while the transaction is occuring , and verify that the purchase is legitimate. They will send out a push notification to the person's cell phone. That person is then able to select something like a yes or no button. If yes, then they allow the transaction to proceed. Else, the transaction is halted.<p></p>\n",
    "***Vesta*** has provided their real world data to work with. The goal is to model this data to develop a solution that meets their requirements.<p></p>\n",
    "## Approach\n",
    "* Carefully examine the data to understand how the features \n",
    "* Select the features deemed to contribute strongly to the predicatability of the model\n",
    "* Remove those features that do not contribute in a meaningful way\n",
    "* Create new features when that can possibly add to the accuracy of the model\n",
    "* Build and evaluate different algorithms for the purpose of selecting the best performing"
   ]
  },
  {
   "cell_type": "markdown",
   "metadata": {},
   "source": [
    "## Notebooks\n",
    "This project is organized over multiple notebooks. You can find them in the `notebooks` folder, or just click the links below."
   ]
  },
  {
   "cell_type": "markdown",
   "metadata": {},
   "source": [
    "### [Data EDA]( http://localhost:8888/notebooks/notebooks/IEEE%20Fraud%20Detection%20Data%20Preprocessing.ipynb)\n",
    "Start here. This is will you will find the data exploration."
   ]
  },
  {
   "cell_type": "markdown",
   "metadata": {},
   "source": [
    "### [Data Cleaning and Feature Engineering](http://localhost:8888/notebooks/notebooks/Data%20Cleaning%20and%20FE.ipynb#Drop-Temporary-Features)\n",
    "As the title suggest, here we wrangle the data."
   ]
  },
  {
   "cell_type": "markdown",
   "metadata": {},
   "source": [
    "### [LightGBM Model](http://localhost:8888/notebooks/notebooks/LightGBM%20Model.ipynb)\n",
    "We do a number of things including further feature engineering. And we use LightGBM to model the data."
   ]
  },
  {
   "cell_type": "markdown",
   "metadata": {},
   "source": [
    "### [CatBoost Model](http://localhost:8888/notebooks/notebooks/CATBOOST%20MODEL.ipynb)\n",
    "Same as with LightGBM, but we use CatBoost instead."
   ]
  },
  {
   "cell_type": "markdown",
   "metadata": {},
   "source": [
    "## Code\n",
    "All of the code can be found under the `src` folder."
   ]
  },
  {
   "cell_type": "markdown",
   "metadata": {},
   "source": [
    "## Data\n",
    "The data is not hosted in this repository due to it's size. The data can be downloaded from [Kaggle](https://www.kaggle.com/c/ieee-fraud-detection/data?select=test_transaction.csv)."
   ]
  },
  {
   "cell_type": "code",
   "execution_count": null,
   "metadata": {},
   "outputs": [],
   "source": []
  }
 ],
 "metadata": {
  "kernelspec": {
   "display_name": "Python [conda env:learn-env] *",
   "language": "python",
   "name": "conda-env-learn-env-py"
  },
  "language_info": {
   "codemirror_mode": {
    "name": "ipython",
    "version": 3
   },
   "file_extension": ".py",
   "mimetype": "text/x-python",
   "name": "python",
   "nbconvert_exporter": "python",
   "pygments_lexer": "ipython3",
   "version": "3.6.9"
  },
  "toc": {
   "base_numbering": 1,
   "nav_menu": {},
   "number_sections": true,
   "sideBar": true,
   "skip_h1_title": true,
   "title_cell": "Table of Contents",
   "title_sidebar": "Contents",
   "toc_cell": true,
   "toc_position": {},
   "toc_section_display": true,
   "toc_window_display": true
  }
 },
 "nbformat": 4,
 "nbformat_minor": 2
}
