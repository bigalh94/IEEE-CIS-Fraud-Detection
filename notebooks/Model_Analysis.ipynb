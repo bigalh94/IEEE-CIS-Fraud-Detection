{
 "cells": [
  {
   "cell_type": "markdown",
   "metadata": {},
   "source": [
    "# Model Analysis\n",
    "In the previous sections we build two models - one using LightGBM, and the other CatBoost. We used the AUC score as the evaluation metric. We did this because we want to be accurate in our predictions. In other words, we want ot be as sure as possible that we are separating the instances of fraudulant and non-fraudulant activity as accurately as possible. ROC_CURVE is a measure of how well we are able to seperate the classes. "
   ]
  },
  {
   "cell_type": "markdown",
   "metadata": {},
   "source": [
    "## LightGBM\n",
    "You'll remember that LGBM scored the following:<p></p>\n",
    "**avg pred auc: 0.94848, avg auc: 0.94781+/-0.00016**<p></p>\n",
    "You can see the results in the chart below. the closer the curve approaches the upper left-hand corner the more accurate the model."
   ]
  },
  {
   "cell_type": "markdown",
   "metadata": {},
   "source": [
    "![LGBM ROC_CURVE](../images/LGBM_ROC_Curve.png)"
   ]
  },
  {
   "cell_type": "markdown",
   "metadata": {},
   "source": [
    "### CatBoost\n",
    "Here are the numbers for catboost:<p></p>\n",
    "**avg preds auc: 0.94200, avg auc: 0.94161+/-0.00036**<p></p>\n",
    "Visualy you can see that this curve is not quite as close to the upper-left hand corner. And the scores bear this out."
   ]
  },
  {
   "cell_type": "markdown",
   "metadata": {},
   "source": [
    "![CatBoost ROC_CURVE](../images/cat_ROC_Curve.png)"
   ]
  },
  {
   "cell_type": "markdown",
   "metadata": {},
   "source": [
    "## Conclusion\n",
    "We can see that in this situation, LightGBM slightly out performs CatBoost. Because of LightGBM is the choice for this project."
   ]
  },
  {
   "cell_type": "code",
   "execution_count": null,
   "metadata": {},
   "outputs": [],
   "source": []
  }
 ],
 "metadata": {
  "kernelspec": {
   "display_name": "Python [conda env:learn-env] *",
   "language": "python",
   "name": "conda-env-learn-env-py"
  },
  "language_info": {
   "codemirror_mode": {
    "name": "ipython",
    "version": 3
   },
   "file_extension": ".py",
   "mimetype": "text/x-python",
   "name": "python",
   "nbconvert_exporter": "python",
   "pygments_lexer": "ipython3",
   "version": "3.6.9"
  },
  "toc": {
   "base_numbering": 1,
   "nav_menu": {},
   "number_sections": true,
   "sideBar": true,
   "skip_h1_title": true,
   "title_cell": "Table of Contents",
   "title_sidebar": "Contents",
   "toc_cell": false,
   "toc_position": {},
   "toc_section_display": true,
   "toc_window_display": false
  }
 },
 "nbformat": 4,
 "nbformat_minor": 2
}
