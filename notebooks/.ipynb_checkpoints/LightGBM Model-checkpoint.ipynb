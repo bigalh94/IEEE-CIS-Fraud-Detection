{
 "cells": [
  {
   "cell_type": "code",
   "execution_count": 1,
   "metadata": {},
   "outputs": [],
   "source": [
    "import warnings\n",
    "warnings.filterwarnings(\"ignore\")\n",
    "import os\n",
    "import sys\n",
    "import gc\n",
    "\n",
    "module_path = os.path.abspath(os.path.join('..'))\n",
    "if module_path not in sys.path:\n",
    "    sys.path.append(module_path)\n",
    "    \n",
    "#from src.preprocess import *\n",
    "from src.fe_modeling import *\n",
    "from numba import jit\n",
    "import numpy as np # linear algebra\n",
    "import pandas as pd # data processing, CSV file I/O (e.g. pd.read_csv)\n",
    "import scipy as sp\n",
    "from scipy import stats\n",
    "import matplotlib.pyplot as plt\n",
    "import seaborn as sns\n",
    "import datetime\n",
    "import graphviz\n",
    "\n",
    "from tqdm import tqdm_notebook\n",
    "from sklearn.preprocessing import LabelEncoder\n",
    "from sklearn.model_selection import StratifiedKFold, train_test_split\n",
    "from sklearn.metrics import roc_auc_score\n",
    "import lightgbm as lgb\n",
    "from scipy.stats import ks_2samp\n",
    "from scipy.stats.mstats import gmean\n",
    "\n",
    "from tqdm import tqdm_notebook as tqdm\n",
    "from IPython.display import display\n",
    "\n",
    "import random\n",
    "\n",
    "%matplotlib inline\n",
    "\n",
    "pd.options.display.max_rows = 10000\n",
    "pd.options.display.max_columns = 10000\n",
    "pd.options.display.max_colwidth = 1000"
   ]
  },
  {
   "cell_type": "code",
   "execution_count": 2,
   "metadata": {},
   "outputs": [],
   "source": [
    "# Set a few plotting defaults\n",
    "plt.style.use('ggplot')\n",
    "plt.rcParams['figure.figsize'] = (15, 6)\n",
    "plt.rcParams['font.size'] = 12"
   ]
  },
  {
   "cell_type": "code",
   "execution_count": 3,
   "metadata": {},
   "outputs": [],
   "source": [
    "def seed_everything(seed=0):\n",
    "    random.seed(seed)\n",
    "    np.random.seed(seed)"
   ]
  },
  {
   "cell_type": "code",
   "execution_count": 4,
   "metadata": {},
   "outputs": [],
   "source": [
    "SEED = 42\n",
    "seed_everything(SEED)\n",
    "START_DATE = datetime.datetime.strptime('2017-11-30', '%Y-%m-%d')\n",
    "TARGET = 'isFraud'\n",
    "NFOLDS = 5"
   ]
  },
  {
   "cell_type": "code",
   "execution_count": 5,
   "metadata": {},
   "outputs": [
    {
     "name": "stdout",
     "output_type": "stream",
     "text": [
      "X.shape : (590540, 434), X_test.shape : (506691, 434)\n",
      "Wall time: 7.17 s\n"
     ]
    }
   ],
   "source": [
    "%%time\n",
    "X = pd.read_pickle('../data/train_reduced.pkl')\n",
    "X_test = pd.read_pickle('../data/test_reduced.pkl')\n",
    "\n",
    "sample_submission = pd.read_csv('../data/sample_submission.csv', index_col='TransactionID')\n",
    "\n",
    "y = X[TARGET]\n",
    "X = X.drop(TARGET, axis=1)\n",
    "        \n",
    "print(f'X.shape : {X.shape}, X_test.shape : {X_test.shape}')"
   ]
  },
  {
   "cell_type": "code",
   "execution_count": 6,
   "metadata": {},
   "outputs": [],
   "source": [
    "def train_val_split_by_time(X, y, test_size=0.2):\n",
    "    X_train, X_val, y_train, y_val = train_test_split(X, y, test_size=test_size, shuffle=False)\n",
    "    \n",
    "    print(f'train.shape: {X_train.shape}, val.shape: {X_val.shape}')\n",
    "    \n",
    "    return X_train, y_train, X_val, y_val"
   ]
  },
  {
   "cell_type": "code",
   "execution_count": 7,
   "metadata": {},
   "outputs": [
    {
     "name": "stdout",
     "output_type": "stream",
     "text": [
      "train.shape: (472432, 434), val.shape: (118108, 434)\n"
     ]
    }
   ],
   "source": [
    "X_train, y_train, X_val, y_val = train_val_split_by_time(X, y)"
   ]
  },
  {
   "cell_type": "code",
   "execution_count": 8,
   "metadata": {},
   "outputs": [],
   "source": [
    "lgb_params = {\n",
    "    'objective': 'binary',\n",
    "    #'metric': 'auc',\n",
    "    'metric': 'None',\n",
    "    'learning_rate': 0.01,\n",
    "    'num_leaves': 2**8,\n",
    "    'max_bin': 255,\n",
    "    'max_depth': -1,\n",
    "    'bagging_freq': 5,\n",
    "    'bagging_fraction': 0.7,\n",
    "    'bagging_seed': SEED,\n",
    "    'feature_fraction': 0.7,\n",
    "    'feature_fraction_seed': SEED,\n",
    "    'first_metric_only': True,\n",
    "    'verbose': 100,\n",
    "    'n_jobs': -1,\n",
    "    'seed': SEED,\n",
    "}"
   ]
  },
  {
   "cell_type": "code",
   "execution_count": 9,
   "metadata": {},
   "outputs": [],
   "source": [
    "cols_to_drop = [\n",
    "    'D5_DT_W_std_score',\n",
    "    'ProductCD_TransactionAmt_DT_W',\n",
    "    'D4_DT_D_std_score',\n",
    "    'D15_DT_D_std_score',\n",
    "    'D3_DT_W_std_score',\n",
    "    'D11_DT_W_std_score',\n",
    "    'card3_card5_DT_W_week_day_dist',\n",
    "    'card5_DT_W_week_day_dist',\n",
    "    'D10_DT_D_std_score',\n",
    "    'card3_card5_DT_D',\n",
    "    'ProductCD_cents_DT_D',\n",
    "    'D4_DT_W_std_score',\n",
    "    'D15_DT_W_std_score',\n",
    "    'uid_DT_D',\n",
    "    'card3_DT_W_week_day_dist',\n",
    "    'D10_DT_W_std_score',\n",
    "    'D8_DT_D_std_score',\n",
    "    'card3_card5_DT_W',\n",
    "    'ProductCD_cents_DT_W',\n",
    "    'uid_DT_W',\n",
    "    'D8_DT_W_std_score'\n",
    "]"
   ]
  },
  {
   "cell_type": "code",
   "execution_count": null,
   "metadata": {},
   "outputs": [
    {
     "name": "stdout",
     "output_type": "stream",
     "text": [
      "Rare data card1 5134\n",
      "No intersection in Train card1 20399\n",
      "Intersection in Train card1 452033\n",
      "####################\n",
      "Rare data ProductCD_card1 10509\n",
      "No intersection in Train ProductCD_card1 33115\n",
      "Intersection in Train ProductCD_card1 439317\n",
      "####################\n",
      "Rare data card1_addr1 21640\n",
      "No intersection in Train card1_addr1 57867\n",
      "Intersection in Train card1_addr1 414565\n",
      "####################\n",
      "Rare data TransactionAmt_dist2 18260\n",
      "No intersection in Train TransactionAmt_dist2 49343\n",
      "Intersection in Train TransactionAmt_dist2 423089\n",
      "####################\n",
      "No intersection in Train card2 6102\n",
      "Intersection in Train card2 466330\n",
      "####################\n",
      "No intersection in Train card3 146\n",
      "Intersection in Train card3 472286\n",
      "####################\n",
      "No intersection in Train card4 0\n",
      "Intersection in Train card4 472432\n",
      "####################\n",
      "No intersection in Train card5 7339\n",
      "Intersection in Train card5 465093\n",
      "####################\n",
      "No intersection in Train card6 45\n",
      "Intersection in Train card6 472387\n",
      "####################\n",
      "##########\n",
      "Most common uIds:\n",
      "########## uid\n",
      "W_9500_321.0_150.0_visa_226.0_debit_126.0_86.0      361\n",
      "W_8900_385.0_150.0_visa_226.0_debit_231.0_61.0      232\n",
      "C_12616_490.0_150.0_visa_nan_credit_nan_492.0       202\n",
      "W_12741_106.0_150.0_visa_226.0_debit_143.0_203.0    196\n",
      "W_8528_215.0_150.0_visa_226.0_debit_387.0_160.0     188\n",
      "C_15885_545.0_185.0_visa_138.0_debit_nan_-21.0      169\n",
      "W_7207_111.0_150.0_visa_226.0_debit_204.0_466.0     168\n",
      "W_4121_361.0_150.0_visa_226.0_credit_476.0_9.0      137\n",
      "C_15885_545.0_185.0_visa_138.0_debit_nan_-26.0      137\n",
      "C_15885_545.0_185.0_visa_138.0_debit_nan_-19.0      134\n",
      "Name: uid, dtype: int64\n",
      "timeblock frequency encoding: uid_DT_W\n",
      "timeblock frequency encoding: card3_card5_DT_W\n",
      "timeblock frequency encoding: uid_DT_D\n",
      "timeblock frequency encoding: card3_card5_DT_D\n",
      "uid_aggregation: uid_D1_mean\n",
      "uid_aggregation: uid_D1_std\n",
      "uid_aggregation: card3_card5_D1_mean\n",
      "uid_aggregation: card3_card5_D1_std\n",
      "uid_aggregation: uid_D2_mean\n",
      "uid_aggregation: uid_D2_std\n",
      "uid_aggregation: card3_card5_D2_mean\n",
      "uid_aggregation: card3_card5_D2_std\n",
      "uid_aggregation: uid_D3_mean\n",
      "uid_aggregation: uid_D3_std\n",
      "uid_aggregation: card3_card5_D3_mean\n",
      "uid_aggregation: card3_card5_D3_std\n",
      "uid_aggregation: uid_D4_mean\n",
      "uid_aggregation: uid_D4_std\n",
      "uid_aggregation: card3_card5_D4_mean\n",
      "uid_aggregation: card3_card5_D4_std\n",
      "uid_aggregation: uid_D5_mean\n",
      "uid_aggregation: uid_D5_std\n",
      "uid_aggregation: card3_card5_D5_mean\n",
      "uid_aggregation: card3_card5_D5_std\n",
      "uid_aggregation: uid_D6_mean\n",
      "uid_aggregation: uid_D6_std\n",
      "uid_aggregation: card3_card5_D6_mean\n",
      "uid_aggregation: card3_card5_D6_std\n",
      "uid_aggregation: uid_D7_mean\n",
      "uid_aggregation: uid_D7_std\n",
      "uid_aggregation: card3_card5_D7_mean\n",
      "uid_aggregation: card3_card5_D7_std\n",
      "uid_aggregation: uid_D8_mean\n",
      "uid_aggregation: uid_D8_std\n"
     ]
    }
   ],
   "source": [
    "X_train, X_val, category_cols1 = fe1(X_train, X_val, cols_to_drop)"
   ]
  },
  {
   "cell_type": "code",
   "execution_count": null,
   "metadata": {},
   "outputs": [],
   "source": [
    "category_cols1"
   ]
  },
  {
   "cell_type": "code",
   "execution_count": null,
   "metadata": {},
   "outputs": [],
   "source": [
    "fi_df, best_iteration1, val_preds = make_val_prediction(X_train, y_train, X_val, y_val, category_cols=category_cols1,lgb_params=lgb_params)"
   ]
  },
  {
   "cell_type": "code",
   "execution_count": null,
   "metadata": {},
   "outputs": [],
   "source": [
    "np.save('val_preds_lgb.npy', val_preds)"
   ]
  },
  {
   "cell_type": "code",
   "execution_count": null,
   "metadata": {},
   "outputs": [],
   "source": [
    "X, X_test, category_cols = fe1(X, X_test)\n",
    "preds = make_test_prediction(X, y, X_test, best_iteration1, category_cols=category_cols)"
   ]
  },
  {
   "cell_type": "code",
   "execution_count": null,
   "metadata": {},
   "outputs": [],
   "source": [
    "np.save('preds_lgb.npy', preds)"
   ]
  },
  {
   "cell_type": "code",
   "execution_count": null,
   "metadata": {},
   "outputs": [],
   "source": []
  }
 ],
 "metadata": {
  "kernelspec": {
   "display_name": "Python [conda env:learn-env] *",
   "language": "python",
   "name": "conda-env-learn-env-py"
  },
  "language_info": {
   "codemirror_mode": {
    "name": "ipython",
    "version": 3
   },
   "file_extension": ".py",
   "mimetype": "text/x-python",
   "name": "python",
   "nbconvert_exporter": "python",
   "pygments_lexer": "ipython3",
   "version": "3.6.9"
  },
  "toc": {
   "base_numbering": 1,
   "nav_menu": {},
   "number_sections": true,
   "sideBar": true,
   "skip_h1_title": true,
   "title_cell": "Table of Contents",
   "title_sidebar": "Contents",
   "toc_cell": false,
   "toc_position": {},
   "toc_section_display": true,
   "toc_window_display": false
  }
 },
 "nbformat": 4,
 "nbformat_minor": 2
}
